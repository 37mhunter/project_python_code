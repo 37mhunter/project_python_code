{
 "cells": [
  {
   "cell_type": "code",
   "execution_count": 1,
   "id": "972bfca2-bbf3-4677-82c1-ff13eabfe947",
   "metadata": {},
   "outputs": [],
   "source": [
    "#import libraries\n",
    "import pandas as pd\n",
    "import numpy as np\n",
    "import os"
   ]
  },
  {
   "cell_type": "code",
   "execution_count": 3,
   "id": "42ef4d40-4491-4909-841d-3db67b6819ab",
   "metadata": {},
   "outputs": [],
   "source": [
    "#create path\n",
    "path=r'C:\\Users\\37mhu\\Documents\\Instacart Basket Analysis' "
   ]
  },
  {
   "cell_type": "code",
   "execution_count": 5,
   "id": "a01f2e59-764a-4fd9-8e2a-21bab0de77c4",
   "metadata": {},
   "outputs": [],
   "source": [
    "#import ords_prods_merge df\n",
    "df_ords_prods_merge=pd.read_pickle(os.path.join(path,'02 Data','Prepared Data','ords_prods_merge.pkl'))"
   ]
  },
  {
   "cell_type": "code",
   "execution_count": 9,
   "id": "eada6856-853a-49ac-8cda-88a154f024de",
   "metadata": {},
   "outputs": [],
   "source": [
    "#create df with first 1 million rows from ords_prods_merge\n",
    "df=df_ords_prods_merge[:1000000]"
   ]
  },
  {
   "cell_type": "code",
   "execution_count": 13,
   "id": "0d61d186-9fbf-4bdc-9ff7-02f0e6fb9dc1",
   "metadata": {},
   "outputs": [
    {
     "data": {
      "text/plain": [
       "(1000000, 17)"
      ]
     },
     "execution_count": 13,
     "metadata": {},
     "output_type": "execute_result"
    }
   ],
   "source": [
    "df.shape"
   ]
  },
  {
   "cell_type": "code",
   "execution_count": 15,
   "id": "f0370572-886c-4065-b551-8b65a144d7ca",
   "metadata": {},
   "outputs": [
    {
     "data": {
      "text/plain": [
       "Index(['Unnamed: 0.1', 'Unnamed: 0_x', 'order_id', 'user_id', 'order_number',\n",
       "       'orders_day_of_week', 'hour_order_placed', 'days_since_prior_order',\n",
       "       'product_id', 'add_to_cart_order', 'reordered', '_merge',\n",
       "       'Unnamed: 0_y', 'product_name', 'aisle_id', 'department_id', 'prices'],\n",
       "      dtype='object')"
      ]
     },
     "execution_count": 15,
     "metadata": {},
     "output_type": "execute_result"
    }
   ],
   "source": [
    "df.columns"
   ]
  },
  {
   "cell_type": "code",
   "execution_count": 11,
   "id": "fa49df47-9e4e-406c-8a35-b1ab41aacf6c",
   "metadata": {},
   "outputs": [],
   "source": [
    "#create function to assign price labels\n",
    "def price_label(row):\n",
    "\n",
    "  if row['prices'] <= 5:\n",
    "    return 'Low-range product'\n",
    "  elif (row['prices'] > 5) and (row['prices'] <= 15):\n",
    "    return 'Mid-range product'\n",
    "  elif row['prices'] > 15:\n",
    "    return 'High range'\n",
    "  else: return 'Not enough data'"
   ]
  },
  {
   "cell_type": "code",
   "execution_count": 17,
   "id": "c9d017ea-267b-4f46-9c30-92b7d213dec3",
   "metadata": {},
   "outputs": [
    {
     "name": "stderr",
     "output_type": "stream",
     "text": [
      "C:\\Users\\37mhu\\AppData\\Local\\Temp\\ipykernel_14476\\2703828020.py:1: SettingWithCopyWarning: \n",
      "A value is trying to be set on a copy of a slice from a DataFrame.\n",
      "Try using .loc[row_indexer,col_indexer] = value instead\n",
      "\n",
      "See the caveats in the documentation: https://pandas.pydata.org/pandas-docs/stable/user_guide/indexing.html#returning-a-view-versus-a-copy\n",
      "  df['price_range']=df.apply(price_label, axis=1)\n"
     ]
    }
   ],
   "source": [
    "#create new price_range column\n",
    "df['price_range']=df.apply(price_label, axis=1)"
   ]
  },
  {
   "cell_type": "code",
   "execution_count": 23,
   "id": "6ec661c2-2561-4afd-aded-2dd469218771",
   "metadata": {},
   "outputs": [
    {
     "data": {
      "text/plain": [
       "price_range\n",
       "Mid-range product    673435\n",
       "Low-range product    314087\n",
       "High range            12412\n",
       "Not enough data          66\n",
       "Name: count, dtype: int64"
      ]
     },
     "execution_count": 23,
     "metadata": {},
     "output_type": "execute_result"
    }
   ],
   "source": [
    "df['price_range'].value_counts()"
   ]
  },
  {
   "cell_type": "code",
   "execution_count": 25,
   "id": "8921682f-6b47-4b8c-8cf5-320dd51c0201",
   "metadata": {},
   "outputs": [
    {
     "data": {
      "text/plain": [
       "99999.0"
      ]
     },
     "execution_count": 25,
     "metadata": {},
     "output_type": "execute_result"
    }
   ],
   "source": [
    "df['prices'].max()"
   ]
  },
  {
   "cell_type": "code",
   "execution_count": 27,
   "id": "6822e2bc-b23d-43ee-b79c-c369eee64221",
   "metadata": {},
   "outputs": [
    {
     "name": "stderr",
     "output_type": "stream",
     "text": [
      "C:\\Users\\37mhu\\AppData\\Local\\Temp\\ipykernel_14476\\1169838859.py:1: SettingWithCopyWarning: \n",
      "A value is trying to be set on a copy of a slice from a DataFrame.\n",
      "Try using .loc[row_indexer,col_indexer] = value instead\n",
      "\n",
      "See the caveats in the documentation: https://pandas.pydata.org/pandas-docs/stable/user_guide/indexing.html#returning-a-view-versus-a-copy\n",
      "  df.loc[df['prices'] > 15, 'price_range_loc'] = 'High-range product'\n"
     ]
    }
   ],
   "source": [
    "#assign high-range product value to price range column for prices over 15\n",
    "df.loc[df['prices'] > 15, 'price_range_loc'] = 'High-range product'"
   ]
  },
  {
   "cell_type": "code",
   "execution_count": 29,
   "id": "95f30052-80b0-4ae3-a163-cef68677f9b0",
   "metadata": {},
   "outputs": [],
   "source": [
    "#assign mid-range product value to price range column for prices under/equal to 15 and above 5\n",
    "df.loc[(df['prices'] <= 15) & (df['prices'] > 5), 'price_range_loc'] = 'Mid-range product' "
   ]
  },
  {
   "cell_type": "code",
   "execution_count": 31,
   "id": "8399b643-a8b6-4f11-9763-f4fb7bab3190",
   "metadata": {},
   "outputs": [],
   "source": [
    "#assign low-range product value to price range column for prices under/equal 5\n",
    "df.loc[df['prices'] <= 5, 'price_range_loc'] = 'Low-range product'"
   ]
  },
  {
   "cell_type": "code",
   "execution_count": 33,
   "id": "9a74ddee-0522-4d60-af1d-e753dd5b98f8",
   "metadata": {},
   "outputs": [
    {
     "data": {
      "text/plain": [
       "price_range_loc\n",
       "Mid-range product     673435\n",
       "Low-range product     314087\n",
       "High-range product     12412\n",
       "NaN                       66\n",
       "Name: count, dtype: int64"
      ]
     },
     "execution_count": 33,
     "metadata": {},
     "output_type": "execute_result"
    }
   ],
   "source": [
    "df['price_range_loc'].value_counts(dropna=False)"
   ]
  },
  {
   "cell_type": "code",
   "execution_count": 37,
   "id": "436836fd-22d0-4f61-92fc-c78fccb3041d",
   "metadata": {},
   "outputs": [],
   "source": [
    "#assign high-range product value to price range column for prices over 15\n",
    "df_ords_prods_merge.loc[df_ords_prods_merge['prices']>15, 'price_range_loc']='High-range product'"
   ]
  },
  {
   "cell_type": "code",
   "execution_count": 39,
   "id": "f156998a-e901-4c1a-a413-939053ca0c0b",
   "metadata": {},
   "outputs": [],
   "source": [
    "#assign mid-range product value to price range column for prices under/equal to 15 and above 5\n",
    "df_ords_prods_merge.loc[(df_ords_prods_merge['prices']<=15)&(df_ords_prods_merge['prices']>5), 'price_range_loc']='Mid-range product'"
   ]
  },
  {
   "cell_type": "code",
   "execution_count": 49,
   "id": "acdff115-c662-4564-b995-3141730ff630",
   "metadata": {},
   "outputs": [],
   "source": [
    "#assign low-range product value to price range column for prices under/equal to 5\n",
    "df_ords_prods_merge.loc[df_ords_prods_merge['prices']<=5, 'price_range_loc']='Low-range product'"
   ]
  },
  {
   "cell_type": "code",
   "execution_count": 51,
   "id": "0131c66f-9060-4184-bb0d-c4e74ccb4706",
   "metadata": {},
   "outputs": [
    {
     "data": {
      "text/plain": [
       "price_range_loc\n",
       "Mid-range product     21890146\n",
       "Low-range product     10126384\n",
       "High-range product      417682\n",
       "NaN                       2029\n",
       "Name: count, dtype: int64"
      ]
     },
     "execution_count": 51,
     "metadata": {},
     "output_type": "execute_result"
    }
   ],
   "source": [
    "#view frequency of price range column\n",
    "df_ords_prods_merge['price_range_loc'].value_counts(dropna=False)"
   ]
  },
  {
   "cell_type": "code",
   "execution_count": 53,
   "id": "e91eb82e-90e3-411d-87f2-56f5d036c289",
   "metadata": {},
   "outputs": [
    {
     "data": {
      "text/plain": [
       "orders_day_of_week\n",
       "0    6210030\n",
       "1    5666177\n",
       "6    4500536\n",
       "2    4218024\n",
       "5    4209718\n",
       "3    3844342\n",
       "4    3787414\n",
       "Name: count, dtype: int64"
      ]
     },
     "execution_count": 53,
     "metadata": {},
     "output_type": "execute_result"
    }
   ],
   "source": [
    "#view frequency of orders_day_of_week column\n",
    "df_ords_prods_merge['orders_day_of_week'].value_counts(dropna=False)"
   ]
  },
  {
   "cell_type": "code",
   "execution_count": 55,
   "id": "2404312b-c361-4dd0-8a88-98b294b39319",
   "metadata": {},
   "outputs": [],
   "source": [
    "#create busiest day column\n",
    "result = []\n",
    "\n",
    "for value in df_ords_prods_merge[\"orders_day_of_week\"]:\n",
    "  if value == 0:\n",
    "    result.append(\"Busiest day\")\n",
    "  elif value == 4:\n",
    "    result.append(\"Least busy\")\n",
    "  else:\n",
    "    result.append(\"Regularly busy\")"
   ]
  },
  {
   "cell_type": "code",
   "execution_count": 57,
   "id": "ec4259c9-2862-4128-aea3-8f7758a56db6",
   "metadata": {},
   "outputs": [],
   "source": [
    "df_ords_prods_merge['busiest_day']=result"
   ]
  },
  {
   "cell_type": "code",
   "execution_count": 61,
   "id": "e4492af7-641f-47b1-9472-e164db32666b",
   "metadata": {},
   "outputs": [
    {
     "data": {
      "text/plain": [
       "busiest_day\n",
       "Regularly busy    22438797\n",
       "Busiest day        6210030\n",
       "Least busy         3787414\n",
       "Name: count, dtype: int64"
      ]
     },
     "execution_count": 61,
     "metadata": {},
     "output_type": "execute_result"
    }
   ],
   "source": [
    "df_ords_prods_merge['busiest_day'].value_counts(dropna=False)"
   ]
  },
  {
   "cell_type": "code",
   "execution_count": 63,
   "id": "6513d742-b3c6-4f9b-a566-d37590bd7bc7",
   "metadata": {},
   "outputs": [
    {
     "data": {
      "text/plain": [
       "(32436241, 19)"
      ]
     },
     "execution_count": 63,
     "metadata": {},
     "output_type": "execute_result"
    }
   ],
   "source": [
    "df_ords_prods_merge.shape"
   ]
  },
  {
   "cell_type": "code",
   "execution_count": 67,
   "id": "6667afed-f893-45d9-a05c-a7e912c5011d",
   "metadata": {},
   "outputs": [
    {
     "data": {
      "text/plain": [
       "Index(['Unnamed: 0.1', 'Unnamed: 0_x', 'order_id', 'user_id', 'order_number',\n",
       "       'orders_day_of_week', 'hour_order_placed', 'days_since_prior_order',\n",
       "       'product_id', 'add_to_cart_order', 'reordered', '_merge',\n",
       "       'Unnamed: 0_y', 'product_name', 'aisle_id', 'department_id', 'prices',\n",
       "       'price_range_loc', 'busiest_day'],\n",
       "      dtype='object')"
      ]
     },
     "execution_count": 67,
     "metadata": {},
     "output_type": "execute_result"
    }
   ],
   "source": [
    "df_ords_prods_merge.columns"
   ]
  },
  {
   "cell_type": "markdown",
   "id": "d153a406-7bda-44a3-9b07-4f39f2e0fb7e",
   "metadata": {},
   "source": [
    "#TASK STEPS"
   ]
  },
  {
   "cell_type": "code",
   "execution_count": 79,
   "id": "118d55f4-e3f7-4430-adea-0cc04cfbc0fa",
   "metadata": {},
   "outputs": [],
   "source": [
    "#2 Create busiest_days column\n",
    "result2 = []\n",
    "\n",
    "for value in df_ords_prods_merge[\"orders_day_of_week\"]:\n",
    "  if value == 0 :\n",
    "    result2.append(\"Busiest days\")\n",
    "  elif value== 1:\n",
    "    result2.append(\"Busiest days\")\n",
    "  elif value == 4:\n",
    "    result2.append(\"Least busy\")\n",
    "  elif value == 3:\n",
    "    result2.append(\"Least busy\")  \n",
    "  else:\n",
    "    result2.append(\"Regularly busy\")\n",
    "    "
   ]
  },
  {
   "cell_type": "code",
   "execution_count": 81,
   "id": "cdf40921-50af-405d-beb3-930c73494828",
   "metadata": {},
   "outputs": [],
   "source": [
    "df_ords_prods_merge['busiest_days']=result2"
   ]
  },
  {
   "cell_type": "code",
   "execution_count": 83,
   "id": "93211a0c-059f-4919-af9e-505ca411eb86",
   "metadata": {},
   "outputs": [
    {
     "data": {
      "text/plain": [
       "busiest_days\n",
       "Regularly busy    12928278\n",
       "Busiest days      11876207\n",
       "Least busy         7631756\n",
       "Name: count, dtype: int64"
      ]
     },
     "execution_count": 83,
     "metadata": {},
     "output_type": "execute_result"
    }
   ],
   "source": [
    "df_ords_prods_merge['busiest_days'].value_counts(dropna=False)"
   ]
  },
  {
   "cell_type": "markdown",
   "id": "ef1f212c-fb9f-4b48-b1e2-8ab7d4d708c9",
   "metadata": {},
   "source": [
    "#3 I did not observe anything notable"
   ]
  },
  {
   "cell_type": "code",
   "execution_count": 87,
   "id": "46b422a6-b558-4a79-ac30-83fc67b5f5ab",
   "metadata": {},
   "outputs": [
    {
     "data": {
      "text/plain": [
       "hour_order_placed\n",
       "10    2764578\n",
       "11    2738749\n",
       "14    2691713\n",
       "15    2664685\n",
       "13    2663449\n",
       "12    2620979\n",
       "16    2537617\n",
       "9     2456821\n",
       "17    2089577\n",
       "8     1720055\n",
       "18    1638020\n",
       "19    1259463\n",
       "20     977075\n",
       "7      891979\n",
       "21     796400\n",
       "22     634765\n",
       "23     402640\n",
       "6      290803\n",
       "0      218968\n",
       "1      115793\n",
       "5       88067\n",
       "2       69437\n",
       "4       53287\n",
       "3       51321\n",
       "Name: count, dtype: int64"
      ]
     },
     "execution_count": 87,
     "metadata": {},
     "output_type": "execute_result"
    }
   ],
   "source": [
    "#4 Create new column busiest_period_of_day\n",
    "df_ords_prods_merge['hour_order_placed'].value_counts(dropna=False)"
   ]
  },
  {
   "cell_type": "code",
   "execution_count": 95,
   "id": "88c430b1-8590-426f-ba8a-1d204ff8e8e3",
   "metadata": {},
   "outputs": [],
   "source": [
    "result3 = []\n",
    "\n",
    "for value in df_ords_prods_merge[\"hour_order_placed\"]:\n",
    "  if value in (10,11,14,15,13,12,16,9) :\n",
    "    result3.append(\"Most orders\")\n",
    "  elif value in (17,8,18,19,20,7,21,22):\n",
    "    result3.append(\"Average orders\")  \n",
    "  else\n",
    "    result3.append(\"Fewest orders\")\n",
    "    "
   ]
  },
  {
   "cell_type": "code",
   "execution_count": 97,
   "id": "6d882f08-ebbb-40ac-9939-3732bf6c9e18",
   "metadata": {},
   "outputs": [],
   "source": [
    "df_ords_prods_merge['busiest_period_of_day']=result3"
   ]
  },
  {
   "cell_type": "code",
   "execution_count": 99,
   "id": "cbeaf05b-dadb-4bcc-a2a2-3111bac90f13",
   "metadata": {},
   "outputs": [
    {
     "data": {
      "text/plain": [
       "busiest_period_of_day\n",
       "Most orders       21138591\n",
       "Average orders    10007334\n",
       "Fewest orders      1290316\n",
       "Name: count, dtype: int64"
      ]
     },
     "execution_count": 99,
     "metadata": {},
     "output_type": "execute_result"
    }
   ],
   "source": [
    "#5 Print frequency of busiest_period_of_day column\n",
    "df_ords_prods_merge['busiest_period_of_day'].value_counts(dropna=False)"
   ]
  },
  {
   "cell_type": "code",
   "execution_count": 103,
   "id": "34bea1f9-cbac-435c-b25c-f4c3127fc8f3",
   "metadata": {},
   "outputs": [],
   "source": [
    "#7 Export df_ords_prods_merge as pickle\n",
    "df_ords_prods_merge.to_pickle(os.path.join(path, '02 Data','Prepared Data', 'ords_prods_merge_updated.pkl'))"
   ]
  },
  {
   "cell_type": "code",
   "execution_count": null,
   "id": "d99b243e-78db-4d91-b555-43f55d6c9668",
   "metadata": {},
   "outputs": [],
   "source": []
  }
 ],
 "metadata": {
  "kernelspec": {
   "display_name": "Python 3 (ipykernel)",
   "language": "python",
   "name": "python3"
  },
  "language_info": {
   "codemirror_mode": {
    "name": "ipython",
    "version": 3
   },
   "file_extension": ".py",
   "mimetype": "text/x-python",
   "name": "python",
   "nbconvert_exporter": "python",
   "pygments_lexer": "ipython3",
   "version": "3.12.4"
  }
 },
 "nbformat": 4,
 "nbformat_minor": 5
}
