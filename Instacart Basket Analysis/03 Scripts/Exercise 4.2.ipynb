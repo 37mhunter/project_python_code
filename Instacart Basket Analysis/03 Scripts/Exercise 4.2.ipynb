{
 "cells": [
  {
   "cell_type": "code",
   "execution_count": 7,
   "id": "c1665f4f-478a-4359-8879-efc0e5ceebf4",
   "metadata": {},
   "outputs": [],
   "source": [
    "#import libraries\n",
    "import pandas as pd\n",
    "import numpy as np\n",
    "import os"
   ]
  },
  {
   "cell_type": "code",
   "execution_count": 8,
   "id": "794ed9d4-5090-4837-9db2-e9e73508928d",
   "metadata": {},
   "outputs": [],
   "source": [
    "#python data types"
   ]
  },
  {
   "cell_type": "code",
   "execution_count": 9,
   "id": "ef342751-ef81-47a3-85cb-ab3f1a7f65fc",
   "metadata": {},
   "outputs": [],
   "source": [
    "x=25"
   ]
  },
  {
   "cell_type": "code",
   "execution_count": 10,
   "id": "52983c32-3793-4885-a109-94ab11e1482d",
   "metadata": {},
   "outputs": [],
   "source": [
    "y = 50"
   ]
  },
  {
   "cell_type": "code",
   "execution_count": 11,
   "id": "68ee6669-0382-4a5c-b347-e5332d74117a",
   "metadata": {},
   "outputs": [],
   "source": [
    "z=150"
   ]
  },
  {
   "cell_type": "code",
   "execution_count": 12,
   "id": "9b494c26-a01a-461a-bbd7-6b6a5dfa6525",
   "metadata": {},
   "outputs": [],
   "source": [
    "#add/subtract variables"
   ]
  },
  {
   "cell_type": "code",
   "execution_count": 13,
   "id": "fac5dff7-be3a-4961-8407-0f53539605a0",
   "metadata": {},
   "outputs": [
    {
     "data": {
      "text/plain": [
       "100"
      ]
     },
     "execution_count": 13,
     "metadata": {},
     "output_type": "execute_result"
    }
   ],
   "source": [
    "x+x+y"
   ]
  },
  {
   "cell_type": "code",
   "execution_count": 14,
   "id": "0698c4fb-da2b-462c-8802-428809ea2ebf",
   "metadata": {},
   "outputs": [
    {
     "data": {
      "text/plain": [
       "100"
      ]
     },
     "execution_count": 14,
     "metadata": {},
     "output_type": "execute_result"
    }
   ],
   "source": [
    "y+y"
   ]
  },
  {
   "cell_type": "code",
   "execution_count": 15,
   "id": "fa81b6e2-bc0e-4977-a750-5ec01ca21727",
   "metadata": {},
   "outputs": [
    {
     "data": {
      "text/plain": [
       "100"
      ]
     },
     "execution_count": 15,
     "metadata": {},
     "output_type": "execute_result"
    }
   ],
   "source": [
    "z-x-x"
   ]
  },
  {
   "cell_type": "code",
   "execution_count": 16,
   "id": "7d8af442-6caf-48fc-89bd-9cea5fc4b840",
   "metadata": {},
   "outputs": [
    {
     "data": {
      "text/plain": [
       "100"
      ]
     },
     "execution_count": 16,
     "metadata": {},
     "output_type": "execute_result"
    }
   ],
   "source": [
    "z-y"
   ]
  },
  {
   "cell_type": "code",
   "execution_count": 17,
   "id": "5626af32-0012-4bb0-8568-9ff8b4a20c86",
   "metadata": {},
   "outputs": [],
   "source": [
    "#divide floating-point variables"
   ]
  },
  {
   "cell_type": "code",
   "execution_count": 18,
   "id": "8597cc01-ad23-48e3-89f0-a0acbbf42469",
   "metadata": {},
   "outputs": [],
   "source": [
    "x=3.14"
   ]
  },
  {
   "cell_type": "code",
   "execution_count": 19,
   "id": "6d455ce1-49db-499b-b88d-ea5ae501f941",
   "metadata": {},
   "outputs": [],
   "source": [
    "y=1.23"
   ]
  },
  {
   "cell_type": "code",
   "execution_count": 20,
   "id": "dc80d741-f401-4207-86ef-9adfa0ea6f3d",
   "metadata": {},
   "outputs": [
    {
     "data": {
      "text/plain": [
       "2.552845528455285"
      ]
     },
     "execution_count": 20,
     "metadata": {},
     "output_type": "execute_result"
    }
   ],
   "source": [
    "x/y"
   ]
  },
  {
   "cell_type": "code",
   "execution_count": 21,
   "id": "4de724f9-24f0-4722-a9d0-e02850e9794e",
   "metadata": {},
   "outputs": [],
   "source": [
    "#construct a short word"
   ]
  },
  {
   "cell_type": "code",
   "execution_count": 22,
   "id": "f2d8ef9f-ea3a-4ea7-b6cd-7f4951d64c62",
   "metadata": {},
   "outputs": [],
   "source": [
    "x='green'"
   ]
  },
  {
   "cell_type": "code",
   "execution_count": 23,
   "id": "f90ab3f6-1a6c-442a-b7a6-98b0d7a37757",
   "metadata": {},
   "outputs": [],
   "source": [
    "y='house'"
   ]
  },
  {
   "cell_type": "code",
   "execution_count": 24,
   "id": "67fd9143-b0e8-42de-97c3-a072cd545a03",
   "metadata": {},
   "outputs": [
    {
     "data": {
      "text/plain": [
       "'greenhouse'"
      ]
     },
     "execution_count": 24,
     "metadata": {},
     "output_type": "execute_result"
    }
   ],
   "source": [
    "x+y"
   ]
  },
  {
   "cell_type": "code",
   "execution_count": 25,
   "id": "5b2d017f-22c9-4564-9d3b-ffec8b91a715",
   "metadata": {},
   "outputs": [],
   "source": [
    "#construct 2 short sentences"
   ]
  },
  {
   "cell_type": "code",
   "execution_count": 26,
   "id": "13ec8083-cf9f-4af8-84c0-90d91c1482f0",
   "metadata": {},
   "outputs": [],
   "source": [
    "x='I drove to' "
   ]
  },
  {
   "cell_type": "code",
   "execution_count": 27,
   "id": "612c84e6-404a-415e-8c12-c48bffb63635",
   "metadata": {},
   "outputs": [],
   "source": [
    "y=' the park earlier today.'"
   ]
  },
  {
   "cell_type": "code",
   "execution_count": 28,
   "id": "bcb78928-cad2-44cd-afc3-7c902f9bf1f3",
   "metadata": {},
   "outputs": [],
   "source": [
    "z='I read a book at'"
   ]
  },
  {
   "cell_type": "code",
   "execution_count": 29,
   "id": "59405b64-58d9-482d-80a5-049c0f62cb33",
   "metadata": {},
   "outputs": [],
   "source": [
    "a=' the library yesterday.'"
   ]
  },
  {
   "cell_type": "code",
   "execution_count": 30,
   "id": "5163349b-dd7b-4795-ae8a-3a0f064b083e",
   "metadata": {},
   "outputs": [
    {
     "data": {
      "text/plain": [
       "'I drove to the library yesterday.'"
      ]
     },
     "execution_count": 30,
     "metadata": {},
     "output_type": "execute_result"
    }
   ],
   "source": [
    "x+a"
   ]
  },
  {
   "cell_type": "code",
   "execution_count": 31,
   "id": "2f37a757-df69-412c-9e12-8ca6be990ae3",
   "metadata": {},
   "outputs": [
    {
     "data": {
      "text/plain": [
       "'I read a book at the park earlier today.'"
      ]
     },
     "execution_count": 31,
     "metadata": {},
     "output_type": "execute_result"
    }
   ],
   "source": [
    "z+y"
   ]
  },
  {
   "cell_type": "code",
   "execution_count": null,
   "id": "04d22b05-93e5-48bb-b009-45b512f670a5",
   "metadata": {},
   "outputs": [],
   "source": []
  }
 ],
 "metadata": {
  "kernelspec": {
   "display_name": "Python 3 (ipykernel)",
   "language": "python",
   "name": "python3"
  },
  "language_info": {
   "codemirror_mode": {
    "name": "ipython",
    "version": 3
   },
   "file_extension": ".py",
   "mimetype": "text/x-python",
   "name": "python",
   "nbconvert_exporter": "python",
   "pygments_lexer": "ipython3",
   "version": "3.12.4"
  }
 },
 "nbformat": 4,
 "nbformat_minor": 5
}
