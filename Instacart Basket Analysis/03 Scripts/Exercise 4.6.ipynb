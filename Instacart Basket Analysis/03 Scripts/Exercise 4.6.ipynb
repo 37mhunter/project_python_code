{
 "cells": [
  {
   "cell_type": "markdown",
   "id": "f231812e-a41c-4907-b1a1-8168da5635bd",
   "metadata": {},
   "source": [
    "This notebook contains task steps 3-7 for exercise 4.6"
   ]
  },
  {
   "cell_type": "code",
   "execution_count": 2,
   "id": "1a4bbfbc-272d-4f44-abc1-cd610cfe09e0",
   "metadata": {},
   "outputs": [],
   "source": [
    "#import libraries\n",
    "import pandas as pd\n",
    "import numpy as np\n",
    "import os"
   ]
  },
  {
   "cell_type": "code",
   "execution_count": 4,
   "id": "ea4d602c-8a47-4df1-b225-9a25fab22b88",
   "metadata": {},
   "outputs": [],
   "source": [
    "#create path\n",
    "path=r'C:\\Users\\37mhu\\Documents\\Instacart Basket Analysis' "
   ]
  },
  {
   "cell_type": "code",
   "execution_count": 6,
   "id": "a2af7ae4-a4cb-412a-ad68-a536eea38fa4",
   "metadata": {},
   "outputs": [],
   "source": [
    "#3 import orders_products_prior df\n",
    "df_orders_products_combined=pd.read_pickle(os.path.join(path,'02 Data','Prepared Data','orders_products_combined.pkl'))"
   ]
  },
  {
   "cell_type": "code",
   "execution_count": 8,
   "id": "140f38d3-cfaf-4a37-b892-c278f4419ade",
   "metadata": {},
   "outputs": [
    {
     "data": {
      "text/plain": [
       "(32434489, 12)"
      ]
     },
     "execution_count": 8,
     "metadata": {},
     "output_type": "execute_result"
    }
   ],
   "source": [
    "#4 check orders_products_combined shape\n",
    "df_orders_products_combined.shape"
   ]
  },
  {
   "cell_type": "code",
   "execution_count": 10,
   "id": "ca445e87-a449-4137-b500-b30a2cbc9ff5",
   "metadata": {},
   "outputs": [],
   "source": [
    "#import products csv \n",
    "df_prods=pd.read_csv(os.path.join(path,'02 Data','Prepared Data','products_prepared.csv'),index_col=False)"
   ]
  },
  {
   "cell_type": "code",
   "execution_count": 12,
   "id": "1ac5588d-408d-49f6-ab50-9c26f6c6c38d",
   "metadata": {},
   "outputs": [
    {
     "data": {
      "text/plain": [
       "(49693, 6)"
      ]
     },
     "execution_count": 12,
     "metadata": {},
     "output_type": "execute_result"
    }
   ],
   "source": [
    "df_prods.shape"
   ]
  },
  {
   "cell_type": "code",
   "execution_count": 14,
   "id": "cc459c21-23e5-446f-bb02-61909f2b6446",
   "metadata": {},
   "outputs": [
    {
     "data": {
      "text/plain": [
       "Index(['Unnamed: 0', 'product_id', 'product_name', 'aisle_id', 'department_id',\n",
       "       'prices'],\n",
       "      dtype='object')"
      ]
     },
     "execution_count": 14,
     "metadata": {},
     "output_type": "execute_result"
    }
   ],
   "source": [
    "df_prods.columns"
   ]
  },
  {
   "cell_type": "code",
   "execution_count": 16,
   "id": "231eedc2-fb83-40f4-8963-81a966834d4e",
   "metadata": {},
   "outputs": [
    {
     "data": {
      "text/plain": [
       "Index(['Unnamed: 0.1', 'Unnamed: 0', 'order_id', 'user_id', 'order_number',\n",
       "       'orders_day_of_week', 'hour_order_placed', 'days_since_prior_order',\n",
       "       'product_id', 'add_to_cart_order', 'reordered', '_merge'],\n",
       "      dtype='object')"
      ]
     },
     "execution_count": 16,
     "metadata": {},
     "output_type": "execute_result"
    }
   ],
   "source": [
    "df_orders_products_combined.columns"
   ]
  },
  {
   "cell_type": "code",
   "execution_count": 18,
   "id": "13bbc9a2-fbfa-439b-b772-153ad7f30291",
   "metadata": {},
   "outputs": [],
   "source": [
    "#5 I'll combine the dataframes by merging them since they have different dimensions. I want to keep all records from the orders_products_merged df  \n",
    "df_ords_prods_merge=df_orders_products_combined.merge(df_prods, on='product_id', how='left')"
   ]
  },
  {
   "cell_type": "code",
   "execution_count": 20,
   "id": "e4af7fdd-739d-42ae-9171-4c000b1b6a8a",
   "metadata": {},
   "outputs": [
    {
     "data": {
      "text/plain": [
       "_merge\n",
       "both          32436241\n",
       "left_only            0\n",
       "right_only           0\n",
       "Name: count, dtype: int64"
      ]
     },
     "execution_count": 20,
     "metadata": {},
     "output_type": "execute_result"
    }
   ],
   "source": [
    "#6 Confirm merge results\n",
    "df_ords_prods_merge['_merge'].value_counts()"
   ]
  },
  {
   "cell_type": "code",
   "execution_count": 24,
   "id": "7efc9a80-4c65-4260-9136-391bb9b2959d",
   "metadata": {},
   "outputs": [],
   "source": [
    "#7 Export df_ords_prods_merge as pickle\n",
    "df_ords_prods_merge.to_pickle(os.path.join(path, '02 Data','Prepared Data', 'ords_prods_merge.pkl'))"
   ]
  },
  {
   "cell_type": "code",
   "execution_count": null,
   "id": "4238fcee-dad5-4647-af68-f2b82673f247",
   "metadata": {},
   "outputs": [],
   "source": []
  }
 ],
 "metadata": {
  "kernelspec": {
   "display_name": "Python 3 (ipykernel)",
   "language": "python",
   "name": "python3"
  },
  "language_info": {
   "codemirror_mode": {
    "name": "ipython",
    "version": 3
   },
   "file_extension": ".py",
   "mimetype": "text/x-python",
   "name": "python",
   "nbconvert_exporter": "python",
   "pygments_lexer": "ipython3",
   "version": "3.12.4"
  }
 },
 "nbformat": 4,
 "nbformat_minor": 5
}
